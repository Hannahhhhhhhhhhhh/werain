{
 "cells": [
  {
   "cell_type": "code",
   "execution_count": 3,
   "metadata": {},
   "outputs": [],
   "source": [
    "import re\n",
    "import os\n",
    "import numpy as np\n",
    "import pandas as pd\n",
    "# import jieba\n",
    "# import jieba.analyse  \n",
    "import matplotlib.pyplot as plt\n",
    "from tqdm import tqdm\n",
    "\n",
    "# import gensim\n",
    "# from gensim.models import word2vec\n",
    "# from gensim.models import KeyedVectors"
   ]
  },
  {
   "cell_type": "code",
   "execution_count": 4,
   "metadata": {},
   "outputs": [],
   "source": [
    "def load_data():\n",
    "    df_tf_idf = pd.read_csv('df_tf_idf.csv',index_col=False).drop(columns='Unnamed: 0')\n",
    "#     df_tf_idf = pd.read_csv('df_tf_idf.csv',index_col=False)\n",
    "    print(df_tf_idf.head())\n",
    "    \n",
    "    ori_text = pd.read_csv('original_text.csv')\n",
    "    print(ori_text.head(2))\n",
    "    \n",
    "    return df_tf_idf,ori_text"
   ]
  },
  {
   "cell_type": "code",
   "execution_count": 5,
   "metadata": {},
   "outputs": [
    {
     "name": "stdout",
     "output_type": "stream",
     "text": [
      "  Keyword    TF_IDF\n",
      "0      北京  0.650746\n",
      "1      暴雨  0.488569\n",
      "2      大雨  0.326697\n",
      "3      积水  0.125624\n",
      "4     遇难者  0.068973\n",
      "                                            new_text\n",
      "0  这是不是无耻到一定境界了抗击暴雨的普通百姓居然是北京精神的作用人们的团结热心居然是某几位领导...\n",
      "1                                北京市民坚持住众志成城定可度过暴雨阶段\n"
     ]
    }
   ],
   "source": [
    "df_tf_idf,ori_text = load_data()"
   ]
  },
  {
   "cell_type": "code",
   "execution_count": 33,
   "metadata": {},
   "outputs": [],
   "source": [
    "keyword = df_tf_idf['Keyword'].tolist()\n",
    "word_num = len(keyword)\n",
    "M = [[0 for i in range(word_num)] for j in range(word_num)]\n",
    "doc_dict = dict()"
   ]
  },
  {
   "cell_type": "code",
   "execution_count": 16,
   "metadata": {},
   "outputs": [
    {
     "name": "stderr",
     "output_type": "stream",
     "text": [
      "100%|██████████| 41642/41642 [00:07<00:00, 5321.43it/s]\n"
     ]
    }
   ],
   "source": [
    "for i in tqdm(range(len(ori_text['new_text']))):\n",
    "    text = ori_text['new_text'][i]\n",
    "    doc_id = i\n",
    "    for w in range(len(keyword)):\n",
    "        word = keyword[w]\n",
    "#         print(word)\n",
    "        if word in text:\n",
    "            if word in doc_dict:\n",
    "                doc_dict[word].append(i)\n",
    "            else:\n",
    "                doc_dict[word] = [i]\n",
    "            for k in range(len(keyword)):\n",
    "                other_word = keyword[k]\n",
    "                if (other_word != word) and (other_word in text):\n",
    "                    M[w][k] += 1"
   ]
  },
  {
   "cell_type": "code",
   "execution_count": 55,
   "metadata": {},
   "outputs": [],
   "source": [
    "df_M = pd.DataFrame(M, columns=keyword, index=keyword)"
   ]
  },
  {
   "cell_type": "code",
   "execution_count": 57,
   "metadata": {},
   "outputs": [],
   "source": [
    "df_M.to_csv('共现矩阵.csv')"
   ]
  },
  {
   "cell_type": "code",
   "execution_count": 37,
   "metadata": {},
   "outputs": [],
   "source": [
    "df_M = pd.read_csv('共现矩阵.csv').drop(columns = ['Unnamed: 0'])"
   ]
  },
  {
   "cell_type": "code",
   "execution_count": 40,
   "metadata": {},
   "outputs": [],
   "source": [
    "M = df_M.values"
   ]
  },
  {
   "cell_type": "code",
   "execution_count": 41,
   "metadata": {},
   "outputs": [
    {
     "name": "stderr",
     "output_type": "stream",
     "text": [
      "100%|██████████| 100/100 [00:00<00:00, 440.70it/s]\n"
     ]
    }
   ],
   "source": [
    "Matrix_lst = list()\n",
    "for w in tqdm(range(len(keyword))):\n",
    "    for k in range(w,len(keyword)):\n",
    "        if M[w][k] != 0:\n",
    "            Matrix_lst.append([keyword[w],keyword[k],'Undirected',M[w][k]])"
   ]
  },
  {
   "cell_type": "code",
   "execution_count": 42,
   "metadata": {},
   "outputs": [
    {
     "data": {
      "text/html": [
       "<div>\n",
       "<style scoped>\n",
       "    .dataframe tbody tr th:only-of-type {\n",
       "        vertical-align: middle;\n",
       "    }\n",
       "\n",
       "    .dataframe tbody tr th {\n",
       "        vertical-align: top;\n",
       "    }\n",
       "\n",
       "    .dataframe thead th {\n",
       "        text-align: right;\n",
       "    }\n",
       "</style>\n",
       "<table border=\"1\" class=\"dataframe\">\n",
       "  <thead>\n",
       "    <tr style=\"text-align: right;\">\n",
       "      <th></th>\n",
       "      <th>Source</th>\n",
       "      <th>Target</th>\n",
       "      <th>Type</th>\n",
       "      <th>Weight</th>\n",
       "    </tr>\n",
       "  </thead>\n",
       "  <tbody>\n",
       "    <tr>\n",
       "      <th>0</th>\n",
       "      <td>北京</td>\n",
       "      <td>暴雨</td>\n",
       "      <td>Undirected</td>\n",
       "      <td>39846</td>\n",
       "    </tr>\n",
       "    <tr>\n",
       "      <th>1</th>\n",
       "      <td>北京</td>\n",
       "      <td>大雨</td>\n",
       "      <td>Undirected</td>\n",
       "      <td>26818</td>\n",
       "    </tr>\n",
       "    <tr>\n",
       "      <th>2</th>\n",
       "      <td>北京</td>\n",
       "      <td>积水</td>\n",
       "      <td>Undirected</td>\n",
       "      <td>9232</td>\n",
       "    </tr>\n",
       "    <tr>\n",
       "      <th>3</th>\n",
       "      <td>北京</td>\n",
       "      <td>遇难者</td>\n",
       "      <td>Undirected</td>\n",
       "      <td>4426</td>\n",
       "    </tr>\n",
       "    <tr>\n",
       "      <th>4</th>\n",
       "      <td>北京</td>\n",
       "      <td>悼念</td>\n",
       "      <td>Undirected</td>\n",
       "      <td>3950</td>\n",
       "    </tr>\n",
       "  </tbody>\n",
       "</table>\n",
       "</div>"
      ],
      "text/plain": [
       "  Source Target        Type  Weight\n",
       "0     北京     暴雨  Undirected   39846\n",
       "1     北京     大雨  Undirected   26818\n",
       "2     北京     积水  Undirected    9232\n",
       "3     北京    遇难者  Undirected    4426\n",
       "4     北京     悼念  Undirected    3950"
      ]
     },
     "execution_count": 42,
     "metadata": {},
     "output_type": "execute_result"
    }
   ],
   "source": [
    "df_matrix_lst = pd.DataFrame(Matrix_lst, columns = ['Source','Target','Type','Weight'])\n",
    "df_matrix_lst.head()"
   ]
  },
  {
   "cell_type": "code",
   "execution_count": 44,
   "metadata": {},
   "outputs": [
    {
     "data": {
      "text/plain": [
       "(4289, 4)"
      ]
     },
     "execution_count": 44,
     "metadata": {},
     "output_type": "execute_result"
    }
   ],
   "source": [
    "df_matrix_lst.shape"
   ]
  },
  {
   "cell_type": "code",
   "execution_count": 45,
   "metadata": {},
   "outputs": [],
   "source": [
    "df_matrix_lst.to_csv('共现矩阵_列表.csv',index=False)"
   ]
  },
  {
   "cell_type": "markdown",
   "metadata": {},
   "source": [
    "# 共现矩阵——排序筛选"
   ]
  },
  {
   "cell_type": "code",
   "execution_count": 46,
   "metadata": {},
   "outputs": [
    {
     "data": {
      "text/plain": [
       "(4289, 4)"
      ]
     },
     "execution_count": 46,
     "metadata": {},
     "output_type": "execute_result"
    }
   ],
   "source": [
    "df_matrix = pd.read_csv('共现矩阵_列表.csv')\n",
    "df_matrix.shape"
   ]
  },
  {
   "cell_type": "code",
   "execution_count": 47,
   "metadata": {},
   "outputs": [],
   "source": [
    "df_matrix_sorted = df_matrix.sort_values('Weight', ascending = False)"
   ]
  },
  {
   "cell_type": "code",
   "execution_count": 59,
   "metadata": {},
   "outputs": [
    {
     "data": {
      "text/plain": [
       "(1549, 4)"
      ]
     },
     "execution_count": 59,
     "metadata": {},
     "output_type": "execute_result"
    }
   ],
   "source": [
    "df_matrix_sorted_40 = df_matrix_sorted[df_matrix_sorted['Weight']>40]\n",
    "df_matrix_sorted_40 = df_matrix_sorted_40[df_matrix_sorted_40['Weight']<5000]\n",
    "df_matrix_sorted_40.shape"
   ]
  },
  {
   "cell_type": "code",
   "execution_count": 61,
   "metadata": {},
   "outputs": [],
   "source": [
    "df_matrix_sorted_40.to_csv('共现矩阵_列表_40.csv', index=False)"
   ]
  },
  {
   "cell_type": "markdown",
   "metadata": {},
   "source": [
    "# 生成节点信息"
   ]
  },
  {
   "cell_type": "code",
   "execution_count": 12,
   "metadata": {},
   "outputs": [],
   "source": [
    "temp = pd.read_csv('共现矩阵_列表_40.csv')\n",
    "word_set = set(temp['Source'])"
   ]
  },
  {
   "cell_type": "code",
   "execution_count": 21,
   "metadata": {},
   "outputs": [],
   "source": [
    "new_df = []\n",
    "for d in df_tf_idf.values.tolist():\n",
    "    if(d[0] in word_set):\n",
    "        newd = [d[0], d[0],d[1]]\n",
    "        new_df.append(newd)"
   ]
  },
  {
   "cell_type": "code",
   "execution_count": 22,
   "metadata": {},
   "outputs": [],
   "source": [
    "new_df_1 = pd.DataFrame(new_df, columns = ['Id','Label','size'])\n",
    "new_df_1.to_csv('共现矩阵_节点_40.csv',index=False, encoding=\"UTF-8\")"
   ]
  },
  {
   "cell_type": "code",
   "execution_count": null,
   "metadata": {},
   "outputs": [],
   "source": []
  }
 ],
 "metadata": {
  "kernelspec": {
   "display_name": "Python 3",
   "language": "python",
   "name": "python3"
  },
  "language_info": {
   "codemirror_mode": {
    "name": "ipython",
    "version": 3
   },
   "file_extension": ".py",
   "mimetype": "text/x-python",
   "name": "python",
   "nbconvert_exporter": "python",
   "pygments_lexer": "ipython3",
   "version": "3.7.3"
  }
 },
 "nbformat": 4,
 "nbformat_minor": 5
}
